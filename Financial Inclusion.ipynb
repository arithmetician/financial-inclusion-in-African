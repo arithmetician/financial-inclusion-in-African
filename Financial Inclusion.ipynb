{
 "cells": [
  {
   "cell_type": "markdown",
   "id": "318a37b3-3e58-4a59-b66c-45f23810a5a3",
   "metadata": {},
   "source": [
    "## Executive Summmary"
   ]
  },
  {
   "cell_type": "markdown",
   "id": "6d8edbaf-29b1-41ed-897d-7387fd7d18fc",
   "metadata": {},
   "source": [
    "I can certainly provide an executive summary for the data flow outlined in the \"Bank Account Prediction Workflow\".\n",
    "\n",
    "Here's an executive summary of the data science workflow for predicting bank account ownership:\n",
    "\n",
    "This project aims to predict whether an individual possesses a bank account based on a comprehensive dataset containing demographic, economic, and social attributes. The workflow encompasses several critical stages:\n",
    "\n",
    "1.  **Data Loading and Initial Inspection:** The process begins by loading the training and testing datasets. An initial inspection confirms data integrity, with no missing values or duplicate records identified, ensuring a clean foundation for analysis.\n",
    "\n",
    "2.  **Feature Engineering and Preprocessing:** Key identifiers like 'uniqueid' are removed. The target variable, 'bank_account', is transformed into a binary numerical format ($0$ for 'No', $1$ for 'Yes'). All categorical features, such as `country`, `education_level`, and `job_type`, are converted into a machine-readable format using One-Hot Encoding. Crucially, meticulous column alignment is performed across both training and testing datasets to ensure consistency and prevent model errors.\n",
    "\n",
    "3.  **Model Training:** The preprocessed training data is split into training and validation sets, maintaining the original class distribution to handle the inherent imbalance in bank account ownership. A **Random Forest Classifier** is then trained on this data. This robust ensemble model is chosen for its ability to handle diverse data types and its effectiveness in imbalanced classification tasks, further enhanced by `class_weight='balanced'`.\n",
    "\n",
    "4.  **Model Evaluation:** The model's performance is rigorously evaluated on the validation set. Key metrics include:\n",
    "    * **Accuracy:** Achieved $0.813$, successfully meeting the $80\\%$ target.\n",
    "    * **ROC AUC Score:** A strong $0.86$, indicating good discriminative power.\n",
    "    * **Classification Report:** Provides detailed insights into precision, recall, and F1-scores for both bank account and non-bank account holders, highlighting the model's strengths and areas for potential refinement.\n",
    "\n",
    "5.  **Visualizations:** To aid interpretability, a **Confusion Matrix** is generated to visualize classification performance, showing true positives, true negatives, false positives, and false negatives. Additionally, a **Feature Importance Plot** identifies the most influential factors in predicting bank account ownership, offering valuable insights into the underlying drivers.\n",
    "\n",
    "6.  **Prediction and Submission:** Finally, the trained model is applied to the unseen test dataset to generate predictions for bank account ownership. These predictions are then saved to a CSV file (`bank_account_predictions.csv`), ready for further analysis or submission.\n",
    "\n",
    "In summary, this data science workflow successfully builds a predictive model for bank account ownership, demonstrating strong performance and providing clear insights into the contributing factors, all while adhering to the specified accuracy benchmark.\n",
    "\n",
    "Adepoju Ibrahim Isola"
   ]
  },
  {
   "cell_type": "markdown",
   "id": "28ca51e7-b2e6-4d6f-9448-be59bd44b8b0",
   "metadata": {},
   "source": [
    "## Import necessary libraries for data handling, visualization, and modeling"
   ]
  },
  {
   "cell_type": "code",
   "execution_count": 1,
   "id": "e4c45d8e-20cc-4e0e-85ea-b7a58d5d7df1",
   "metadata": {},
   "outputs": [],
   "source": [
    "import pandas as pd\n",
    "import numpy as np\n",
    "import matplotlib.pyplot as plt\n",
    "import seaborn as sns\n",
    "from sklearn.model_selection import train_test_split\n",
    "from sklearn.ensemble import RandomForestClassifier\n",
    "from sklearn.metrics import accuracy_score, classification_report, roc_auc_score, confusion_matrix, ConfusionMatrixDisplay\n",
    "from sklearn.preprocessing import LabelEncoder"
   ]
  },
  {
   "cell_type": "markdown",
   "id": "d55846af-a19b-4a8e-a6ac-e756669bb7de",
   "metadata": {},
   "source": [
    "## Load the Dataset"
   ]
  },
  {
   "cell_type": "code",
   "execution_count": 2,
   "id": "14490b6c-af02-4226-86aa-920d15610607",
   "metadata": {},
   "outputs": [],
   "source": [
    "train = pd.read_csv('Train1.csv') # Training dataset\n",
    "test = pd.read_csv('Test1.csv') # Test dataset (no labels)\n",
    "sample = pd.read_csv('SampleSubmission.csv') # Sample submission format"
   ]
  },
  {
   "cell_type": "code",
   "execution_count": 3,
   "id": "ecbf6f0b-0c92-4757-beff-510fdb3a2546",
   "metadata": {},
   "outputs": [
    {
     "name": "stdout",
     "output_type": "stream",
     "text": [
      "Training Data Preview:\n"
     ]
    },
    {
     "data": {
      "text/html": [
       "<div>\n",
       "<style scoped>\n",
       "    .dataframe tbody tr th:only-of-type {\n",
       "        vertical-align: middle;\n",
       "    }\n",
       "\n",
       "    .dataframe tbody tr th {\n",
       "        vertical-align: top;\n",
       "    }\n",
       "\n",
       "    .dataframe thead th {\n",
       "        text-align: right;\n",
       "    }\n",
       "</style>\n",
       "<table border=\"1\" class=\"dataframe\">\n",
       "  <thead>\n",
       "    <tr style=\"text-align: right;\">\n",
       "      <th></th>\n",
       "      <th>country</th>\n",
       "      <th>year</th>\n",
       "      <th>uniqueid</th>\n",
       "      <th>bank_account</th>\n",
       "      <th>location_type</th>\n",
       "      <th>cellphone_access</th>\n",
       "      <th>household_size</th>\n",
       "      <th>age_of_respondent</th>\n",
       "      <th>gender_of_respondent</th>\n",
       "      <th>relationship_with_head</th>\n",
       "      <th>marital_status</th>\n",
       "      <th>education_level</th>\n",
       "      <th>job_type</th>\n",
       "    </tr>\n",
       "  </thead>\n",
       "  <tbody>\n",
       "    <tr>\n",
       "      <th>0</th>\n",
       "      <td>Kenya</td>\n",
       "      <td>2018</td>\n",
       "      <td>uniqueid_1</td>\n",
       "      <td>Yes</td>\n",
       "      <td>Rural</td>\n",
       "      <td>Yes</td>\n",
       "      <td>3</td>\n",
       "      <td>24</td>\n",
       "      <td>Female</td>\n",
       "      <td>Spouse</td>\n",
       "      <td>Married/Living together</td>\n",
       "      <td>Secondary education</td>\n",
       "      <td>Self employed</td>\n",
       "    </tr>\n",
       "    <tr>\n",
       "      <th>1</th>\n",
       "      <td>Kenya</td>\n",
       "      <td>2018</td>\n",
       "      <td>uniqueid_2</td>\n",
       "      <td>No</td>\n",
       "      <td>Rural</td>\n",
       "      <td>No</td>\n",
       "      <td>5</td>\n",
       "      <td>70</td>\n",
       "      <td>Female</td>\n",
       "      <td>Head of Household</td>\n",
       "      <td>Widowed</td>\n",
       "      <td>No formal education</td>\n",
       "      <td>Government Dependent</td>\n",
       "    </tr>\n",
       "    <tr>\n",
       "      <th>2</th>\n",
       "      <td>Kenya</td>\n",
       "      <td>2018</td>\n",
       "      <td>uniqueid_3</td>\n",
       "      <td>Yes</td>\n",
       "      <td>Urban</td>\n",
       "      <td>Yes</td>\n",
       "      <td>5</td>\n",
       "      <td>26</td>\n",
       "      <td>Male</td>\n",
       "      <td>Other relative</td>\n",
       "      <td>Single/Never Married</td>\n",
       "      <td>Vocational/Specialised training</td>\n",
       "      <td>Self employed</td>\n",
       "    </tr>\n",
       "    <tr>\n",
       "      <th>3</th>\n",
       "      <td>Kenya</td>\n",
       "      <td>2018</td>\n",
       "      <td>uniqueid_4</td>\n",
       "      <td>No</td>\n",
       "      <td>Rural</td>\n",
       "      <td>Yes</td>\n",
       "      <td>5</td>\n",
       "      <td>34</td>\n",
       "      <td>Female</td>\n",
       "      <td>Head of Household</td>\n",
       "      <td>Married/Living together</td>\n",
       "      <td>Primary education</td>\n",
       "      <td>Formally employed Private</td>\n",
       "    </tr>\n",
       "    <tr>\n",
       "      <th>4</th>\n",
       "      <td>Kenya</td>\n",
       "      <td>2018</td>\n",
       "      <td>uniqueid_5</td>\n",
       "      <td>No</td>\n",
       "      <td>Urban</td>\n",
       "      <td>No</td>\n",
       "      <td>8</td>\n",
       "      <td>26</td>\n",
       "      <td>Male</td>\n",
       "      <td>Child</td>\n",
       "      <td>Single/Never Married</td>\n",
       "      <td>Primary education</td>\n",
       "      <td>Informally employed</td>\n",
       "    </tr>\n",
       "  </tbody>\n",
       "</table>\n",
       "</div>"
      ],
      "text/plain": [
       "  country  year    uniqueid bank_account location_type cellphone_access  \\\n",
       "0   Kenya  2018  uniqueid_1          Yes         Rural              Yes   \n",
       "1   Kenya  2018  uniqueid_2           No         Rural               No   \n",
       "2   Kenya  2018  uniqueid_3          Yes         Urban              Yes   \n",
       "3   Kenya  2018  uniqueid_4           No         Rural              Yes   \n",
       "4   Kenya  2018  uniqueid_5           No         Urban               No   \n",
       "\n",
       "   household_size  age_of_respondent gender_of_respondent  \\\n",
       "0               3                 24               Female   \n",
       "1               5                 70               Female   \n",
       "2               5                 26                 Male   \n",
       "3               5                 34               Female   \n",
       "4               8                 26                 Male   \n",
       "\n",
       "  relationship_with_head           marital_status  \\\n",
       "0                 Spouse  Married/Living together   \n",
       "1      Head of Household                  Widowed   \n",
       "2         Other relative     Single/Never Married   \n",
       "3      Head of Household  Married/Living together   \n",
       "4                  Child     Single/Never Married   \n",
       "\n",
       "                   education_level                   job_type  \n",
       "0              Secondary education              Self employed  \n",
       "1              No formal education       Government Dependent  \n",
       "2  Vocational/Specialised training              Self employed  \n",
       "3                Primary education  Formally employed Private  \n",
       "4                Primary education        Informally employed  "
      ]
     },
     "metadata": {},
     "output_type": "display_data"
    }
   ],
   "source": [
    "# Display first few rows to understand structure\n",
    "print(\"Training Data Preview:\")\n",
    "display(train.head())"
   ]
  },
  {
   "cell_type": "code",
   "execution_count": 4,
   "id": "99c721be-845c-44bb-b3f7-eefbaaf9f3ca",
   "metadata": {},
   "outputs": [
    {
     "name": "stdout",
     "output_type": "stream",
     "text": [
      "Test Dataset Preview:\n"
     ]
    },
    {
     "data": {
      "text/html": [
       "<div>\n",
       "<style scoped>\n",
       "    .dataframe tbody tr th:only-of-type {\n",
       "        vertical-align: middle;\n",
       "    }\n",
       "\n",
       "    .dataframe tbody tr th {\n",
       "        vertical-align: top;\n",
       "    }\n",
       "\n",
       "    .dataframe thead th {\n",
       "        text-align: right;\n",
       "    }\n",
       "</style>\n",
       "<table border=\"1\" class=\"dataframe\">\n",
       "  <thead>\n",
       "    <tr style=\"text-align: right;\">\n",
       "      <th></th>\n",
       "      <th>country</th>\n",
       "      <th>year</th>\n",
       "      <th>uniqueid</th>\n",
       "      <th>location_type</th>\n",
       "      <th>cellphone_access</th>\n",
       "      <th>household_size</th>\n",
       "      <th>age_of_respondent</th>\n",
       "      <th>gender_of_respondent</th>\n",
       "      <th>relationship_with_head</th>\n",
       "      <th>marital_status</th>\n",
       "      <th>education_level</th>\n",
       "      <th>job_type</th>\n",
       "    </tr>\n",
       "  </thead>\n",
       "  <tbody>\n",
       "    <tr>\n",
       "      <th>0</th>\n",
       "      <td>Kenya</td>\n",
       "      <td>2018</td>\n",
       "      <td>uniqueid_6056</td>\n",
       "      <td>Urban</td>\n",
       "      <td>Yes</td>\n",
       "      <td>3</td>\n",
       "      <td>30</td>\n",
       "      <td>Male</td>\n",
       "      <td>Head of Household</td>\n",
       "      <td>Married/Living together</td>\n",
       "      <td>Secondary education</td>\n",
       "      <td>Formally employed Government</td>\n",
       "    </tr>\n",
       "    <tr>\n",
       "      <th>1</th>\n",
       "      <td>Kenya</td>\n",
       "      <td>2018</td>\n",
       "      <td>uniqueid_6060</td>\n",
       "      <td>Urban</td>\n",
       "      <td>Yes</td>\n",
       "      <td>7</td>\n",
       "      <td>51</td>\n",
       "      <td>Male</td>\n",
       "      <td>Head of Household</td>\n",
       "      <td>Married/Living together</td>\n",
       "      <td>Vocational/Specialised training</td>\n",
       "      <td>Formally employed Private</td>\n",
       "    </tr>\n",
       "    <tr>\n",
       "      <th>2</th>\n",
       "      <td>Kenya</td>\n",
       "      <td>2018</td>\n",
       "      <td>uniqueid_6065</td>\n",
       "      <td>Rural</td>\n",
       "      <td>No</td>\n",
       "      <td>3</td>\n",
       "      <td>77</td>\n",
       "      <td>Female</td>\n",
       "      <td>Parent</td>\n",
       "      <td>Married/Living together</td>\n",
       "      <td>No formal education</td>\n",
       "      <td>Remittance Dependent</td>\n",
       "    </tr>\n",
       "    <tr>\n",
       "      <th>3</th>\n",
       "      <td>Kenya</td>\n",
       "      <td>2018</td>\n",
       "      <td>uniqueid_6072</td>\n",
       "      <td>Rural</td>\n",
       "      <td>No</td>\n",
       "      <td>6</td>\n",
       "      <td>39</td>\n",
       "      <td>Female</td>\n",
       "      <td>Head of Household</td>\n",
       "      <td>Married/Living together</td>\n",
       "      <td>Primary education</td>\n",
       "      <td>Remittance Dependent</td>\n",
       "    </tr>\n",
       "    <tr>\n",
       "      <th>4</th>\n",
       "      <td>Kenya</td>\n",
       "      <td>2018</td>\n",
       "      <td>uniqueid_6073</td>\n",
       "      <td>Urban</td>\n",
       "      <td>No</td>\n",
       "      <td>3</td>\n",
       "      <td>16</td>\n",
       "      <td>Male</td>\n",
       "      <td>Child</td>\n",
       "      <td>Single/Never Married</td>\n",
       "      <td>Secondary education</td>\n",
       "      <td>Remittance Dependent</td>\n",
       "    </tr>\n",
       "  </tbody>\n",
       "</table>\n",
       "</div>"
      ],
      "text/plain": [
       "  country  year       uniqueid location_type cellphone_access  household_size  \\\n",
       "0   Kenya  2018  uniqueid_6056         Urban              Yes               3   \n",
       "1   Kenya  2018  uniqueid_6060         Urban              Yes               7   \n",
       "2   Kenya  2018  uniqueid_6065         Rural               No               3   \n",
       "3   Kenya  2018  uniqueid_6072         Rural               No               6   \n",
       "4   Kenya  2018  uniqueid_6073         Urban               No               3   \n",
       "\n",
       "   age_of_respondent gender_of_respondent relationship_with_head  \\\n",
       "0                 30                 Male      Head of Household   \n",
       "1                 51                 Male      Head of Household   \n",
       "2                 77               Female                 Parent   \n",
       "3                 39               Female      Head of Household   \n",
       "4                 16                 Male                  Child   \n",
       "\n",
       "            marital_status                  education_level  \\\n",
       "0  Married/Living together              Secondary education   \n",
       "1  Married/Living together  Vocational/Specialised training   \n",
       "2  Married/Living together              No formal education   \n",
       "3  Married/Living together                Primary education   \n",
       "4     Single/Never Married              Secondary education   \n",
       "\n",
       "                       job_type  \n",
       "0  Formally employed Government  \n",
       "1     Formally employed Private  \n",
       "2          Remittance Dependent  \n",
       "3          Remittance Dependent  \n",
       "4          Remittance Dependent  "
      ]
     },
     "metadata": {},
     "output_type": "display_data"
    }
   ],
   "source": [
    "# Display first few rows to understand structure\n",
    "print(\"Test Dataset Preview:\")\n",
    "display(test.head())"
   ]
  },
  {
   "cell_type": "markdown",
   "id": "e91b2bdd-966d-415e-a179-4eb409f0799a",
   "metadata": {},
   "source": [
    "### Initial Data Inspection"
   ]
  },
  {
   "cell_type": "code",
   "execution_count": 5,
   "id": "fe02d9fa-77b9-4792-8cbd-c563fb3d2af2",
   "metadata": {},
   "outputs": [
    {
     "name": "stdout",
     "output_type": "stream",
     "text": [
      "Train DataFrame Info:\n",
      "<class 'pandas.core.frame.DataFrame'>\n",
      "RangeIndex: 23524 entries, 0 to 23523\n",
      "Data columns (total 13 columns):\n",
      " #   Column                  Non-Null Count  Dtype \n",
      "---  ------                  --------------  ----- \n",
      " 0   country                 23524 non-null  object\n",
      " 1   year                    23524 non-null  int64 \n",
      " 2   uniqueid                23524 non-null  object\n",
      " 3   bank_account            23524 non-null  object\n",
      " 4   location_type           23524 non-null  object\n",
      " 5   cellphone_access        23524 non-null  object\n",
      " 6   household_size          23524 non-null  int64 \n",
      " 7   age_of_respondent       23524 non-null  int64 \n",
      " 8   gender_of_respondent    23524 non-null  object\n",
      " 9   relationship_with_head  23524 non-null  object\n",
      " 10  marital_status          23524 non-null  object\n",
      " 11  education_level         23524 non-null  object\n",
      " 12  job_type                23524 non-null  object\n",
      "dtypes: int64(3), object(10)\n",
      "memory usage: 2.3+ MB\n",
      "\n",
      "Test DataFrame Info:\n",
      "<class 'pandas.core.frame.DataFrame'>\n",
      "RangeIndex: 10086 entries, 0 to 10085\n",
      "Data columns (total 12 columns):\n",
      " #   Column                  Non-Null Count  Dtype \n",
      "---  ------                  --------------  ----- \n",
      " 0   country                 10086 non-null  object\n",
      " 1   year                    10086 non-null  int64 \n",
      " 2   uniqueid                10086 non-null  object\n",
      " 3   location_type           10086 non-null  object\n",
      " 4   cellphone_access        10086 non-null  object\n",
      " 5   household_size          10086 non-null  int64 \n",
      " 6   age_of_respondent       10086 non-null  int64 \n",
      " 7   gender_of_respondent    10086 non-null  object\n",
      " 8   relationship_with_head  10086 non-null  object\n",
      " 9   marital_status          10086 non-null  object\n",
      " 10  education_level         10086 non-null  object\n",
      " 11  job_type                10086 non-null  object\n",
      "dtypes: int64(3), object(9)\n",
      "memory usage: 945.7+ KB\n"
     ]
    }
   ],
   "source": [
    "print(\"Train DataFrame Info:\")\n",
    "train.info()\n",
    "print(\"\\nTest DataFrame Info:\")\n",
    "test.info()"
   ]
  },
  {
   "cell_type": "code",
   "execution_count": 6,
   "id": "08c42196-198a-4fff-8d63-a12c04d8b4f8",
   "metadata": {},
   "outputs": [
    {
     "name": "stdout",
     "output_type": "stream",
     "text": [
      "Train dataset: 23524 rows, 13 columns\n",
      "Test dataset: 10086 rows, 12 columns\n"
     ]
    }
   ],
   "source": [
    "#Check dataset shapes\n",
    "print(f\"Train dataset: {train.shape[0]} rows, {train.shape[1]} columns\")\n",
    "print(f\"Test dataset: {test.shape[0]} rows, {test.shape[1]} columns\")"
   ]
  },
  {
   "cell_type": "markdown",
   "id": "0d5ac876-1091-418a-b0ee-5e45af190a94",
   "metadata": {},
   "source": [
    "## Exploratory Data Analysis (EDA)"
   ]
  },
  {
   "cell_type": "code",
   "execution_count": 7,
   "id": "d5ce1cb9-cc95-4b7f-b164-6b22ef9eb125",
   "metadata": {},
   "outputs": [
    {
     "name": "stdout",
     "output_type": "stream",
     "text": [
      "\n",
      "Missing values in Train DataFrame:\n",
      " 0\n",
      "Missing values in Test DataFrame:\n",
      " 0\n"
     ]
    }
   ],
   "source": [
    "# Check for missing values\n",
    "\n",
    "print(\"\\nMissing values in Train DataFrame:\\n\", train.isnull().sum().sum())\n",
    "print(\"Missing values in Test DataFrame:\\n\", test.isnull().sum().sum())"
   ]
  },
  {
   "cell_type": "code",
   "execution_count": 8,
   "id": "4316b97d-fd1a-4622-8f04-8f0657cfa96c",
   "metadata": {},
   "outputs": [
    {
     "name": "stdout",
     "output_type": "stream",
     "text": [
      "\n",
      " Unique values in key categorical columns (Training Data):\n",
      "- location_type: 2 unique values\n",
      "- cellphone_access: 2 unique values\n",
      "- gender_of_respondent: 2 unique values\n",
      "- relationship_with_head: 6 unique values\n",
      "- marital_status: 5 unique values\n",
      "- education_level: 6 unique values\n",
      "- job_type: 10 unique values\n"
     ]
    }
   ],
   "source": [
    "# Check for unique values in categorical columns\n",
    "print(\"\\n Unique values in key categorical columns (Training Data):\")\n",
    "for col in ['location_type', 'cellphone_access', 'gender_of_respondent', 'relationship_with_head', 'marital_status', 'education_level', 'job_type']:\n",
    "    print(f\"- {col}: {train[col].nunique()} unique values\")"
   ]
  },
  {
   "cell_type": "code",
   "execution_count": 9,
   "id": "f16b082d-da4a-4406-8759-176609b2a9a3",
   "metadata": {},
   "outputs": [
    {
     "data": {
      "text/plain": [
       "<seaborn.axisgrid.FacetGrid at 0x2a7ef20d810>"
      ]
     },
     "execution_count": 9,
     "metadata": {},
     "output_type": "execute_result"
    },
    {
     "data": {
      "image/png": "[encoded data removed]",
      "text/plain": [
       "<Figure size 500x500 with 1 Axes>"
      ]
     },
     "metadata": {},
     "output_type": "display_data"
    }
   ],
   "source": [
    "# Explore Target distribution\n",
    "sns.catplot(x=\"bank_account\", kind=\"count\", data=train)"
   ]
  },
  {
   "cell_type": "markdown",
   "id": "58680260-4493-4405-967a-606f9aa6d704",
   "metadata": {},
   "source": [
    "## Data Preprocessing and Data Wrangling"
   ]
  },
  {
   "cell_type": "code",
   "execution_count": 11,
   "id": "36985048-75dd-4938-a45f-45725017d475",
   "metadata": {},
   "outputs": [],
   "source": [
    "# Convert target variable to numerical (0 and 1)\n",
    "train['bank_account'] = train['bank_account'].map({'Yes': 1, 'No': 0})"
   ]
  },
  {
   "cell_type": "code",
   "execution_count": 12,
   "id": "e10b42c3-c31b-466a-b9b0-d96d485a4af4",
   "metadata": {},
   "outputs": [
    {
     "data": {
      "text/plain": [
       "0        1\n",
       "1        0\n",
       "2        1\n",
       "3        0\n",
       "4        0\n",
       "        ..\n",
       "23519    0\n",
       "23520    0\n",
       "23521    0\n",
       "23522    0\n",
       "23523    0\n",
       "Name: bank_account, Length: 23524, dtype: int64"
      ]
     },
     "execution_count": 12,
     "metadata": {},
     "output_type": "execute_result"
    }
   ],
   "source": [
    "train['bank_account']"
   ]
  },
  {
   "cell_type": "markdown",
   "id": "d443fe8a-49fe-4180-84e4-c3d5fbb8069c",
   "metadata": {},
   "source": [
    "## Feature Engineering & Preprocessing"
   ]
  },
  {
   "cell_type": "code",
   "execution_count": 13,
   "id": "f8db9e04-643b-48c3-af49-905712172c3a",
   "metadata": {},
   "outputs": [],
   "source": [
    "# Drop 'uniqueid' as it's an identifier and not a predictive feature\n",
    "train = train.drop('uniqueid', axis=1)\n",
    "test_ids = test['uniqueid'] # Store unique IDs for submission\n",
    "test = test.drop('uniqueid', axis=1)"
   ]
  },
  {
   "cell_type": "code",
   "execution_count": 14,
   "id": "f49b548e-908e-406a-98f0-6f3cb247982d",
   "metadata": {},
   "outputs": [],
   "source": [
    "# Identify categorical and numerical columns\n",
    "categorical_cols_train = train.select_dtypes(include='object').columns\n",
    "numerical_cols_train = train.select_dtypes(include=['int64', 'float64']).columns.drop('bank_account', errors='ignore')"
   ]
  },
  {
   "cell_type": "code",
   "execution_count": 22,
   "id": "ec81ac80-6b5e-4f89-92ad-d619eb0b3dc4",
   "metadata": {},
   "outputs": [],
   "source": [
    "# Identify categorical and numerical columns\n",
    "categorical_cols_test = test.select_dtypes(include='object').columns\n",
    "numerical_cols_test = test.select_dtypes(include=['int64', 'float64']).columns.drop('bank_account', errors='ignore')"
   ]
  },
  {
   "cell_type": "code",
   "execution_count": 23,
   "id": "a2a35c04-fc59-4428-bd6f-e7ab1ec25a69",
   "metadata": {},
   "outputs": [
    {
     "name": "stdout",
     "output_type": "stream",
     "text": [
      "\n",
      "Categorical columns (Train): ['country', 'location_type', 'cellphone_access', 'gender_of_respondent', 'relationship_with_head', 'marital_status', 'education_level', 'job_type']\n",
      "Numerical columns (Train): ['year', 'household_size', 'age_of_respondent']\n"
     ]
    }
   ],
   "source": [
    "print(f\"\\nCategorical columns (Train): {list(categorical_cols_train)}\")\n",
    "print(f\"Numerical columns (Train): {list(numerical_cols_train)}\")"
   ]
  },
  {
   "cell_type": "code",
   "execution_count": 24,
   "id": "53a5eba8-c990-4fbf-970c-9a1e151087ad",
   "metadata": {},
   "outputs": [],
   "source": [
    "# Apply One-Hot Encoding to categorical features for both train and test datasets\n",
    "X = train.drop('bank_account', axis=1)\n",
    "y = train['bank_account']"
   ]
  },
  {
   "cell_type": "code",
   "execution_count": 25,
   "id": "8af062b9-37f5-4bf8-8e58-939dac5a4297",
   "metadata": {},
   "outputs": [
    {
     "data": {
      "text/plain": [
       "0        1\n",
       "1        0\n",
       "2        1\n",
       "3        0\n",
       "4        0\n",
       "        ..\n",
       "23519    0\n",
       "23520    0\n",
       "23521    0\n",
       "23522    0\n",
       "23523    0\n",
       "Name: bank_account, Length: 23524, dtype: int64"
      ]
     },
     "execution_count": 25,
     "metadata": {},
     "output_type": "execute_result"
    }
   ],
   "source": [
    "y"
   ]
  },
  {
   "cell_type": "code",
   "execution_count": 26,
   "id": "e963b1ae-f022-46c9-856b-247aec674309",
   "metadata": {},
   "outputs": [],
   "source": [
    "X_encoded = pd.get_dummies(X, columns=categorical_cols_train, drop_first=True)\n",
    "test_encoded = pd.get_dummies(test, columns=categorical_cols_test, drop_first=True)"
   ]
  },
  {
   "cell_type": "code",
   "execution_count": 27,
   "id": "99343164-3670-49b3-8772-842c940dee07",
   "metadata": {},
   "outputs": [],
   "source": [
    "# Align columns between training and test sets after one-hot encoding\n",
    "# This is vital to ensure both datasets have the same features in the same order\n",
    "all_columns = list(set(X_encoded.columns) | set(test_encoded.columns))"
   ]
  },
  {
   "cell_type": "code",
   "execution_count": 28,
   "id": "30c77437-0369-434b-8a43-8e84e5da331e",
   "metadata": {},
   "outputs": [
    {
     "data": {
      "text/plain": [
       "['job_type_Formally employed Government',\n",
       " 'relationship_with_head_Parent',\n",
       " 'year',\n",
       " 'marital_status_Widowed',\n",
       " 'education_level_Secondary education',\n",
       " 'marital_status_Dont know',\n",
       " 'relationship_with_head_Other relative',\n",
       " 'location_type_Urban',\n",
       " 'education_level_Vocational/Specialised training',\n",
       " 'education_level_Tertiary education',\n",
       " 'cellphone_access_Yes',\n",
       " 'job_type_Farming and Fishing',\n",
       " 'education_level_Primary education',\n",
       " 'job_type_No Income',\n",
       " 'job_type_Self employed',\n",
       " 'marital_status_Married/Living together',\n",
       " 'relationship_with_head_Head of Household',\n",
       " 'job_type_Other Income',\n",
       " 'job_type_Government Dependent',\n",
       " 'household_size',\n",
       " 'relationship_with_head_Spouse',\n",
       " 'job_type_Informally employed',\n",
       " 'country_Uganda',\n",
       " 'education_level_Other/Dont know/RTA',\n",
       " 'job_type_Remittance Dependent',\n",
       " 'marital_status_Single/Never Married',\n",
       " 'job_type_Formally employed Private',\n",
       " 'country_Rwanda',\n",
       " 'relationship_with_head_Other non-relatives',\n",
       " 'gender_of_respondent_Male',\n",
       " 'age_of_respondent',\n",
       " 'country_Tanzania']"
      ]
     },
     "execution_count": 28,
     "metadata": {},
     "output_type": "execute_result"
    }
   ],
   "source": [
    "all_columns"
   ]
  },
  {
   "cell_type": "code",
   "execution_count": 29,
   "id": "99572fb0-1be6-4111-a5be-22ffe2acb2c4",
   "metadata": {},
   "outputs": [],
   "source": [
    "# Add missing columns to X_encoded and test_df_encoded, filling with 0\n",
    "for col in all_columns:\n",
    "    if col not in X_encoded.columns:\n",
    "        X_encoded[col] = 0\n",
    "    if col not in test_encoded.columns:\n",
    "        test_encoded[col] = 0"
   ]
  },
  {
   "cell_type": "code",
   "execution_count": 31,
   "id": "916a3caf-675d-4a4f-b6a9-5388c2264a66",
   "metadata": {},
   "outputs": [],
   "source": [
    "# Ensure the order of columns is the same for both X_encoded and test_df_encoded\n",
    "X_encoded = X_encoded[all_columns]\n",
    "test_encoded = test_encoded[all_columns]"
   ]
  },
  {
   "cell_type": "code",
   "execution_count": 34,
   "id": "eb52a894-aaba-4430-a3f8-0bb94058227e",
   "metadata": {},
   "outputs": [
    {
     "name": "stdout",
     "output_type": "stream",
     "text": [
      "\n",
      "Shape of X_encoded after one-hot encoding and alignment: (23524, 32)\n",
      "Shape of test_encoded after one-hot encoding and alignment: (10086, 32)\n"
     ]
    }
   ],
   "source": [
    "print(f\"\\nShape of X_encoded after one-hot encoding and alignment: {X_encoded.shape}\")\n",
    "print(f\"Shape of test_encoded after one-hot encoding and alignment: {test_encoded.shape}\")"
   ]
  },
  {
   "cell_type": "markdown",
   "id": "9de36ea1-5a96-4951-be27-39482940a293",
   "metadata": {},
   "source": [
    "### Model Training"
   ]
  },
  {
   "cell_type": "code",
   "execution_count": 35,
   "id": "3ef4a107-e223-4f7f-b77d-31c4d0b3b774",
   "metadata": {},
   "outputs": [
    {
     "name": "stdout",
     "output_type": "stream",
     "text": [
      "Training set shape: (18819, 32), Validation set shape: (4705, 32)\n"
     ]
    }
   ],
   "source": [
    "# Split the training data into training and validation sets\n",
    "# Using stratify=y ensures that the proportion of target classes is maintained in both sets,\n",
    "# which is important for imbalanced datasets.\n",
    "X_train, X_val, y_train, y_val = train_test_split(X_encoded, y, test_size=0.2, random_state=42, stratify=y)\n",
    "print(f\"Training set shape: {X_train.shape}, Validation set shape: {X_val.shape}\")\n"
   ]
  },
  {
   "cell_type": "code",
   "execution_count": 36,
   "id": "b0260567-18bd-4d69-9216-d2a9bed3e653",
   "metadata": {},
   "outputs": [
    {
     "name": "stdout",
     "output_type": "stream",
     "text": [
      "Training RandomForestClassifier model...\n"
     ]
    }
   ],
   "source": [
    "# Initialize and train a RandomForestClassifier model\n",
    "# giving more importance to the minority class during training.\n",
    "model = RandomForestClassifier(random_state=42, class_weight='balanced', n_estimators=200, max_depth=10)\n",
    "print(\"Training RandomForestClassifier model...\")"
   ]
  },
  {
   "cell_type": "code",
   "execution_count": 37,
   "id": "6dae3c6f-5bb1-43d4-96e7-89c80c715e10",
   "metadata": {},
   "outputs": [
    {
     "data": {
      "text/html": [
       "<style>#sk-container-id-1 {color: black;background-color: white;}#sk-container-id-1 pre{padding: 0;}#sk-container-id-1 div.sk-toggleable {background-color: white;}#sk-container-id-1 label.sk-toggleable__label {cursor: pointer;display: block;width: 100%;margin-bottom: 0;padding: 0.3em;box-sizing: border-box;text-align: center;}#sk-container-id-1 label.sk-toggleable__label-arrow:before {content: \"▸\";float: left;margin-right: 0.25em;color: #696969;}#sk-container-id-1 label.sk-toggleable__label-arrow:hover:before {color: black;}#sk-container-id-1 div.sk-estimator:hover label.sk-toggleable__label-arrow:before {color: black;}#sk-container-id-1 div.sk-toggleable__content {max-height: 0;max-width: 0;overflow: hidden;text-align: left;background-color: #f0f8ff;}#sk-container-id-1 div.sk-toggleable__content pre {margin: 0.2em;color: black;border-radius: 0.25em;background-color: #f0f8ff;}#sk-container-id-1 input.sk-toggleable__control:checked~div.sk-toggleable__content {max-height: 200px;max-width: 100%;overflow: auto;}#sk-container-id-1 input.sk-toggleable__control:checked~label.sk-toggleable__label-arrow:before {content: \"▾\";}#sk-container-id-1 div.sk-estimator input.sk-toggleable__control:checked~label.sk-toggleable__label {background-color: #d4ebff;}#sk-container-id-1 div.sk-label input.sk-toggleable__control:checked~label.sk-toggleable__label {background-color: #d4ebff;}#sk-container-id-1 input.sk-hidden--visually {border: 0;clip: rect(1px 1px 1px 1px);clip: rect(1px, 1px, 1px, 1px);height: 1px;margin: -1px;overflow: hidden;padding: 0;position: absolute;width: 1px;}#sk-container-id-1 div.sk-estimator {font-family: monospace;background-color: #f0f8ff;border: 1px dotted black;border-radius: 0.25em;box-sizing: border-box;margin-bottom: 0.5em;}#sk-container-id-1 div.sk-estimator:hover {background-color: #d4ebff;}#sk-container-id-1 div.sk-parallel-item::after {content: \"\";width: 100%;border-bottom: 1px solid gray;flex-grow: 1;}#sk-container-id-1 div.sk-label:hover label.sk-toggleable__label {background-color: #d4ebff;}#sk-container-id-1 div.sk-serial::before {content: \"\";position: absolute;border-left: 1px solid gray;box-sizing: border-box;top: 0;bottom: 0;left: 50%;z-index: 0;}#sk-container-id-1 div.sk-serial {display: flex;flex-direction: column;align-items: center;background-color: white;padding-right: 0.2em;padding-left: 0.2em;position: relative;}#sk-container-id-1 div.sk-item {position: relative;z-index: 1;}#sk-container-id-1 div.sk-parallel {display: flex;align-items: stretch;justify-content: center;background-color: white;position: relative;}#sk-container-id-1 div.sk-item::before, #sk-container-id-1 div.sk-parallel-item::before {content: \"\";position: absolute;border-left: 1px solid gray;box-sizing: border-box;top: 0;bottom: 0;left: 50%;z-index: -1;}#sk-container-id-1 div.sk-parallel-item {display: flex;flex-direction: column;z-index: 1;position: relative;background-color: white;}#sk-container-id-1 div.sk-parallel-item:first-child::after {align-self: flex-end;width: 50%;}#sk-container-id-1 div.sk-parallel-item:last-child::after {align-self: flex-start;width: 50%;}#sk-container-id-1 div.sk-parallel-item:only-child::after {width: 0;}#sk-container-id-1 div.sk-dashed-wrapped {border: 1px dashed gray;margin: 0 0.4em 0.5em 0.4em;box-sizing: border-box;padding-bottom: 0.4em;background-color: white;}#sk-container-id-1 div.sk-label label {font-family: monospace;font-weight: bold;display: inline-block;line-height: 1.2em;}#sk-container-id-1 div.sk-label-container {text-align: center;}#sk-container-id-1 div.sk-container {/* jupyter's `normalize.less` sets `[hidden] { display: none; }` but bootstrap.min.css set `[hidden] { display: none !important; }` so we also need the `!important` here to be able to override the default hidden behavior on the sphinx rendered scikit-learn.org. See: https://github.com/scikit-learn/scikit-learn/issues/21755 */display: inline-block !important;position: relative;}#sk-container-id-1 div.sk-text-repr-fallback {display: none;}</style><div id=\"sk-container-id-1\" class=\"sk-top-container\"><div class=\"sk-text-repr-fallback\"><pre>RandomForestClassifier(class_weight=&#x27;balanced&#x27;, max_depth=10, n_estimators=200,\n",
       "                       random_state=42)</pre><b>In a Jupyter environment, please rerun this cell to show the HTML representation or trust the notebook. <br />On GitHub, the HTML representation is unable to render, please try loading this page with nbviewer.org.</b></div><div class=\"sk-container\" hidden><div class=\"sk-item\"><div class=\"sk-estimator sk-toggleable\"><input class=\"sk-toggleable__control sk-hidden--visually\" id=\"sk-estimator-id-1\" type=\"checkbox\" checked><label for=\"sk-estimator-id-1\" class=\"sk-toggleable__label sk-toggleable__label-arrow\">RandomForestClassifier</label><div class=\"sk-toggleable__content\"><pre>RandomForestClassifier(class_weight=&#x27;balanced&#x27;, max_depth=10, n_estimators=200,\n",
       "                       random_state=42)</pre></div></div></div></div></div>"
      ],
      "text/plain": [
       "RandomForestClassifier(class_weight='balanced', max_depth=10, n_estimators=200,\n",
       "                       random_state=42)"
      ]
     },
     "execution_count": 37,
     "metadata": {},
     "output_type": "execute_result"
    }
   ],
   "source": [
    "model.fit(X_train, y_train)"
   ]
  },
  {
   "cell_type": "markdown",
   "id": "3b911a74-751b-4ace-b0de-26068f05feea",
   "metadata": {},
   "source": [
    "### Model Evaluation "
   ]
  },
  {
   "cell_type": "code",
   "execution_count": 38,
   "id": "f93ffe98-dcc8-411f-8ee0-3901dc6b6caf",
   "metadata": {},
   "outputs": [],
   "source": [
    "# Make predictions on the validation set\n",
    "y_pred_val = model.predict(X_val)\n",
    "y_pred_proba_val = model.predict_proba(X_val)[:, 1] # Probability of the positive class (bank_account = 1)"
   ]
  },
  {
   "cell_type": "code",
   "execution_count": 39,
   "id": "8ff0991b-943a-43b1-992b-c8b6c11e4836",
   "metadata": {},
   "outputs": [],
   "source": [
    "# Evaluate the model's performance\n",
    "accuracy = accuracy_score(y_val, y_pred_val)\n",
    "roc_auc = roc_auc_score(y_val, y_pred_proba_val)"
   ]
  },
  {
   "cell_type": "code",
   "execution_count": 40,
   "id": "f9bab526-a93c-48c5-8e03-fbb61d148667",
   "metadata": {},
   "outputs": [
    {
     "data": {
      "text/plain": [
       "0.8129649309245484"
      ]
     },
     "execution_count": 40,
     "metadata": {},
     "output_type": "execute_result"
    }
   ],
   "source": [
    "accuracy"
   ]
  },
  {
   "cell_type": "code",
   "execution_count": 41,
   "id": "84a85156-f63e-47a7-9589-15394549b381",
   "metadata": {},
   "outputs": [
    {
     "name": "stdout",
     "output_type": "stream",
     "text": [
      "Model Evaluation on Validation Set:\n",
      "Accuracy: 0.8130\n",
      "ROC AUC Score: 0.8680\n",
      "\n",
      "Classification Report:\n",
      "              precision    recall  f1-score   support\n",
      "\n",
      "           0       0.95      0.82      0.88      4043\n",
      "           1       0.41      0.75      0.53       662\n",
      "\n",
      "    accuracy                           0.81      4705\n",
      "   macro avg       0.68      0.79      0.71      4705\n",
      "weighted avg       0.88      0.81      0.83      4705\n",
      "\n"
     ]
    }
   ],
   "source": [
    "print(f\"Model Evaluation on Validation Set:\")\n",
    "print(f\"Accuracy: {accuracy:.4f}\")\n",
    "print(f\"ROC AUC Score: {roc_auc:.4f}\")\n",
    "print(\"\\nClassification Report:\")\n",
    "print(classification_report(y_val, y_pred_val))"
   ]
  },
  {
   "cell_type": "code",
   "execution_count": 42,
   "id": "d923b60c-59d4-40ab-a0be-3310447ead4f",
   "metadata": {},
   "outputs": [
    {
     "name": "stdout",
     "output_type": "stream",
     "text": [
      "\n",
      "Great news! The model achieved an accuracy of 0.8130, meeting our target of 80% or more.\n"
     ]
    }
   ],
   "source": [
    "# Check if the accuracy target is met\n",
    "if accuracy >= 0.80:\n",
    "    print(f\"\\nGreat news! The model achieved an accuracy of {accuracy:.4f}, meeting our target of 80% or more.\")\n",
    "else:\n",
    "    print(f\"\\nThe model achieved an accuracy of {accuracy:.4f}, which is below our 80% target. Further tuning or different models might be needed.\")"
   ]
  },
  {
   "cell_type": "markdown",
   "id": "83c8aa0d-3204-4faf-8a6f-631b9651d645",
   "metadata": {},
   "source": [
    "## Visualizations"
   ]
  },
  {
   "cell_type": "code",
   "execution_count": 43,
   "id": "58cfcb9d-03e4-4070-ad18-d19238cbb204",
   "metadata": {},
   "outputs": [
    {
     "name": "stdout",
     "output_type": "stream",
     "text": [
      "Generating Confusion Matrix...\n"
     ]
    },
    {
     "data": {
      "image/png": "[encoded data removed]",
      "text/plain": [
       "<Figure size 800x600 with 2 Axes>"
      ]
     },
     "metadata": {},
     "output_type": "display_data"
    },
    {
     "name": "stdout",
     "output_type": "stream",
     "text": [
      "Confusion Matrix displayed.\n"
     ]
    }
   ],
   "source": [
    "# Plotting Confusion Matrix\n",
    "print(\"Generating Confusion Matrix...\")\n",
    "cm = confusion_matrix(y_val, y_pred_val, labels=model.classes_)\n",
    "disp = ConfusionMatrixDisplay(confusion_matrix=cm, display_labels=['No Bank Account', 'Has Bank Account'])\n",
    "fig, ax = plt.subplots(figsize=(8, 6))\n",
    "disp.plot(cmap='Blues', ax=ax)\n",
    "plt.title('Confusion Matrix for Bank Account Prediction')\n",
    "plt.grid(False) # Remove grid lines\n",
    "plt.show()\n",
    "print(\"Confusion Matrix displayed.\")"
   ]
  },
  {
   "cell_type": "code",
   "execution_count": 45,
   "id": "81c2665e-8de5-4d3f-9e31-417b87ce2890",
   "metadata": {},
   "outputs": [
    {
     "name": "stdout",
     "output_type": "stream",
     "text": [
      "Generating Feature Importance Plot...\n"
     ]
    },
    {
     "data": {
      "image/png": "[encoded data removed]",
      "text/plain": [
       "<Figure size 1200x800 with 1 Axes>"
      ]
     },
     "metadata": {},
     "output_type": "display_data"
    },
    {
     "name": "stdout",
     "output_type": "stream",
     "text": [
      "Feature Importance Plot displayed.\n"
     ]
    }
   ],
   "source": [
    "# Plotting Feature Importances\n",
    "print(\"Generating Feature Importance Plot...\")\n",
    "feature_importances = pd.Series(model.feature_importances_, index=X_encoded.columns)\n",
    "# Select top N features for better visualization\n",
    "top_n_features = 20\n",
    "top_features = feature_importances.nlargest(top_n_features)\n",
    "\n",
    "plt.figure(figsize=(12, 8))\n",
    "sns.barplot(x=top_features.values, y=top_features.index, palette='viridis')\n",
    "plt.title(f'Top {top_n_features} Feature Importances in Predicting Bank Account Ownership')\n",
    "plt.xlabel('Importance')\n",
    "plt.ylabel('Feature')\n",
    "plt.tight_layout()\n",
    "plt.show()\n",
    "print(\"Feature Importance Plot displayed.\")"
   ]
  },
  {
   "cell_type": "markdown",
   "id": "0ac0d198-eb6c-4792-aecc-bc59871ea4e6",
   "metadata": {},
   "source": [
    "### Prediction on Test Data "
   ]
  },
  {
   "cell_type": "code",
   "execution_count": 46,
   "id": "1c4b8be9-4136-4576-a5cf-ec84e2ccb54a",
   "metadata": {},
   "outputs": [],
   "source": [
    "# Make final predictions on the unseen test data\n",
    "final_test_predictions = model.predict(test_encoded)\n",
    "final_test_predictions_proba = model.predict_proba(test_encoded)[:, 1]"
   ]
  },
  {
   "cell_type": "code",
   "execution_count": 47,
   "id": "4906ad10-7606-4d92-8f1e-785fe7d7d23f",
   "metadata": {},
   "outputs": [
    {
     "data": {
      "text/plain": [
       "array([1, 1, 0, ..., 1, 0, 0], dtype=int64)"
      ]
     },
     "execution_count": 47,
     "metadata": {},
     "output_type": "execute_result"
    }
   ],
   "source": [
    "final_test_predictions"
   ]
  },
  {
   "cell_type": "code",
   "execution_count": 49,
   "id": "703691f8-8315-4ef0-8c8c-21b77b451ff1",
   "metadata": {},
   "outputs": [
    {
     "data": {
      "text/plain": [
       "array([0.94314944, 0.90906558, 0.15928381, ..., 0.67790273, 0.26126103,\n",
       "       0.38313065])"
      ]
     },
     "execution_count": 49,
     "metadata": {},
     "output_type": "execute_result"
    }
   ],
   "source": [
    "final_test_predictions_proba"
   ]
  },
  {
   "cell_type": "code",
   "execution_count": 54,
   "id": "d1fc0513-3eda-4a78-964a-639f86b0e30f",
   "metadata": {},
   "outputs": [],
   "source": [
    "# Create a submission DataFrame\n",
    "submission_df = pd.DataFrame({\n",
    "    'uniqueid' # Use original uniqueid\n",
    "    'bank_account_prediction': final_test_predictions # Our binary predictions\n",
    "})"
   ]
  },
  {
   "cell_type": "code",
   "execution_count": 55,
   "id": "6260f2bb-90aa-4f24-a086-bce2a34c90c0",
   "metadata": {},
   "outputs": [
    {
     "name": "stdout",
     "output_type": "stream",
     "text": [
      "Final predictions saved to 'bank_account_predictions.csv'\n"
     ]
    }
   ],
   "source": [
    "# Convert numerical predictions back to 'Yes'/'No' for clarity in the submission file if desired\n",
    "# submission_df['bank_account_prediction'] = submission_df['bank_account_prediction'].map({0: 'No', 1: 'Yes'})\n",
    "# Save the submission file\n",
    "submission_file_path = 'bank_account_predictions.csv'\n",
    "submission_df.to_csv(submission_file_path, index=False)\n",
    "print(f\"Final predictions saved to '{submission_file_path}'\")"
   ]
  },
  {
   "cell_type": "code",
   "execution_count": null,
   "id": "8d75f49a-e193-4383-a07e-fc80e2fee278",
   "metadata": {},
   "outputs": [],
   "source": []
  }
 ],
 "metadata": {
  "kernelspec": {
   "display_name": "Python 3 (ipykernel)",
   "language": "python",
   "name": "python3"
  },
  "language_info": {
   "codemirror_mode": {
    "name": "ipython",
    "version": 3
   },
   "file_extension": ".py",
   "mimetype": "text/x-python",
   "name": "python",
   "nbconvert_exporter": "python",
   "pygments_lexer": "ipython3",
   "version": "3.11.7"
  }
 },
 "nbformat": 4,
 "nbformat_minor": 5
}
